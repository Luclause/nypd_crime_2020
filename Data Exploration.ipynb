{
 "cells": [
  {
   "cell_type": "code",
   "execution_count": 5,
   "metadata": {},
   "outputs": [],
   "source": [
    "import pandas as pd\n",
    "import numpy as np"
   ]
  },
  {
   "cell_type": "code",
   "execution_count": 16,
   "metadata": {},
   "outputs": [
    {
     "name": "stdout",
     "output_type": "stream",
     "text": [
      "Number of rows: 74784\n"
     ]
    },
    {
     "data": {
      "text/html": [
       "<div>\n",
       "<style scoped>\n",
       "    .dataframe tbody tr th:only-of-type {\n",
       "        vertical-align: middle;\n",
       "    }\n",
       "\n",
       "    .dataframe tbody tr th {\n",
       "        vertical-align: top;\n",
       "    }\n",
       "\n",
       "    .dataframe thead th {\n",
       "        text-align: right;\n",
       "    }\n",
       "</style>\n",
       "<table border=\"1\" class=\"dataframe\">\n",
       "  <thead>\n",
       "    <tr style=\"text-align: right;\">\n",
       "      <th></th>\n",
       "      <th>ARREST_KEY</th>\n",
       "      <th>ARREST_DATE</th>\n",
       "      <th>PD_CD</th>\n",
       "      <th>PD_DESC</th>\n",
       "      <th>KY_CD</th>\n",
       "      <th>OFNS_DESC</th>\n",
       "      <th>LAW_CODE</th>\n",
       "      <th>LAW_CAT_CD</th>\n",
       "      <th>ARREST_BORO</th>\n",
       "      <th>ARREST_PRECINCT</th>\n",
       "      <th>JURISDICTION_CODE</th>\n",
       "      <th>AGE_GROUP</th>\n",
       "      <th>PERP_SEX</th>\n",
       "      <th>PERP_RACE</th>\n",
       "      <th>X_COORD_CD</th>\n",
       "      <th>Y_COORD_CD</th>\n",
       "      <th>Latitude</th>\n",
       "      <th>Longitude</th>\n",
       "    </tr>\n",
       "  </thead>\n",
       "  <tbody>\n",
       "    <tr>\n",
       "      <th>0</th>\n",
       "      <td>207907186</td>\n",
       "      <td>01/14/2020</td>\n",
       "      <td>49.0</td>\n",
       "      <td>U.S. CODE UNCLASSIFIED</td>\n",
       "      <td>995.0</td>\n",
       "      <td>FOR OTHER AUTHORITIES</td>\n",
       "      <td>FOA9000049</td>\n",
       "      <td>NaN</td>\n",
       "      <td>K</td>\n",
       "      <td>84</td>\n",
       "      <td>0</td>\n",
       "      <td>25-44</td>\n",
       "      <td>M</td>\n",
       "      <td>AMERICAN INDIAN/ALASKAN NATIVE</td>\n",
       "      <td>987042</td>\n",
       "      <td>193563</td>\n",
       "      <td>40.697970</td>\n",
       "      <td>-73.989933</td>\n",
       "    </tr>\n",
       "    <tr>\n",
       "      <th>1</th>\n",
       "      <td>212823662</td>\n",
       "      <td>05/08/2020</td>\n",
       "      <td>101.0</td>\n",
       "      <td>ASSAULT 3</td>\n",
       "      <td>344.0</td>\n",
       "      <td>ASSAULT 3 &amp; RELATED OFFENSES</td>\n",
       "      <td>PL 1200001</td>\n",
       "      <td>M</td>\n",
       "      <td>S</td>\n",
       "      <td>121</td>\n",
       "      <td>0</td>\n",
       "      <td>25-44</td>\n",
       "      <td>M</td>\n",
       "      <td>AMERICAN INDIAN/ALASKAN NATIVE</td>\n",
       "      <td>933479</td>\n",
       "      <td>155881</td>\n",
       "      <td>40.594396</td>\n",
       "      <td>-74.182815</td>\n",
       "    </tr>\n",
       "    <tr>\n",
       "      <th>2</th>\n",
       "      <td>212367624</td>\n",
       "      <td>04/25/2020</td>\n",
       "      <td>101.0</td>\n",
       "      <td>ASSAULT 3</td>\n",
       "      <td>344.0</td>\n",
       "      <td>ASSAULT 3 &amp; RELATED OFFENSES</td>\n",
       "      <td>PL 1200001</td>\n",
       "      <td>M</td>\n",
       "      <td>Q</td>\n",
       "      <td>101</td>\n",
       "      <td>0</td>\n",
       "      <td>25-44</td>\n",
       "      <td>M</td>\n",
       "      <td>AMERICAN INDIAN/ALASKAN NATIVE</td>\n",
       "      <td>1052288</td>\n",
       "      <td>156240</td>\n",
       "      <td>40.595266</td>\n",
       "      <td>-73.755010</td>\n",
       "    </tr>\n",
       "    <tr>\n",
       "      <th>3</th>\n",
       "      <td>212010449</td>\n",
       "      <td>04/14/2020</td>\n",
       "      <td>101.0</td>\n",
       "      <td>ASSAULT 3</td>\n",
       "      <td>344.0</td>\n",
       "      <td>ASSAULT 3 &amp; RELATED OFFENSES</td>\n",
       "      <td>PL 1200001</td>\n",
       "      <td>M</td>\n",
       "      <td>K</td>\n",
       "      <td>62</td>\n",
       "      <td>0</td>\n",
       "      <td>25-44</td>\n",
       "      <td>F</td>\n",
       "      <td>AMERICAN INDIAN/ALASKAN NATIVE</td>\n",
       "      <td>983951</td>\n",
       "      <td>157511</td>\n",
       "      <td>40.599016</td>\n",
       "      <td>-74.001078</td>\n",
       "    </tr>\n",
       "    <tr>\n",
       "      <th>4</th>\n",
       "      <td>214594759</td>\n",
       "      <td>06/25/2020</td>\n",
       "      <td>101.0</td>\n",
       "      <td>ASSAULT 3</td>\n",
       "      <td>344.0</td>\n",
       "      <td>ASSAULT 3 &amp; RELATED OFFENSES</td>\n",
       "      <td>PL 1200001</td>\n",
       "      <td>M</td>\n",
       "      <td>K</td>\n",
       "      <td>62</td>\n",
       "      <td>0</td>\n",
       "      <td>18-24</td>\n",
       "      <td>F</td>\n",
       "      <td>AMERICAN INDIAN/ALASKAN NATIVE</td>\n",
       "      <td>983380</td>\n",
       "      <td>162308</td>\n",
       "      <td>40.612183</td>\n",
       "      <td>-74.003135</td>\n",
       "    </tr>\n",
       "  </tbody>\n",
       "</table>\n",
       "</div>"
      ],
      "text/plain": [
       "   ARREST_KEY ARREST_DATE  PD_CD                 PD_DESC  KY_CD  \\\n",
       "0   207907186  01/14/2020   49.0  U.S. CODE UNCLASSIFIED  995.0   \n",
       "1   212823662  05/08/2020  101.0               ASSAULT 3  344.0   \n",
       "2   212367624  04/25/2020  101.0               ASSAULT 3  344.0   \n",
       "3   212010449  04/14/2020  101.0               ASSAULT 3  344.0   \n",
       "4   214594759  06/25/2020  101.0               ASSAULT 3  344.0   \n",
       "\n",
       "                      OFNS_DESC    LAW_CODE LAW_CAT_CD ARREST_BORO  \\\n",
       "0         FOR OTHER AUTHORITIES  FOA9000049        NaN           K   \n",
       "1  ASSAULT 3 & RELATED OFFENSES  PL 1200001          M           S   \n",
       "2  ASSAULT 3 & RELATED OFFENSES  PL 1200001          M           Q   \n",
       "3  ASSAULT 3 & RELATED OFFENSES  PL 1200001          M           K   \n",
       "4  ASSAULT 3 & RELATED OFFENSES  PL 1200001          M           K   \n",
       "\n",
       "   ARREST_PRECINCT  JURISDICTION_CODE AGE_GROUP PERP_SEX  \\\n",
       "0               84                  0     25-44        M   \n",
       "1              121                  0     25-44        M   \n",
       "2              101                  0     25-44        M   \n",
       "3               62                  0     25-44        F   \n",
       "4               62                  0     18-24        F   \n",
       "\n",
       "                        PERP_RACE  X_COORD_CD  Y_COORD_CD   Latitude  \\\n",
       "0  AMERICAN INDIAN/ALASKAN NATIVE      987042      193563  40.697970   \n",
       "1  AMERICAN INDIAN/ALASKAN NATIVE      933479      155881  40.594396   \n",
       "2  AMERICAN INDIAN/ALASKAN NATIVE     1052288      156240  40.595266   \n",
       "3  AMERICAN INDIAN/ALASKAN NATIVE      983951      157511  40.599016   \n",
       "4  AMERICAN INDIAN/ALASKAN NATIVE      983380      162308  40.612183   \n",
       "\n",
       "   Longitude  \n",
       "0 -73.989933  \n",
       "1 -74.182815  \n",
       "2 -73.755010  \n",
       "3 -74.001078  \n",
       "4 -74.003135  "
      ]
     },
     "execution_count": 16,
     "metadata": {},
     "output_type": "execute_result"
    }
   ],
   "source": [
    "# Ingest NYPD Arrest data\n",
    "raw_df = pd.read_csv('./data/NYPD_Arrest_Data__Year_to_Date_2020.csv')\n",
    "\n",
    "# Display Results\n",
    "print('Number of rows: {}'.format(raw_df.shape[0]))\n",
    "raw_df.head()"
   ]
  },
  {
   "cell_type": "code",
   "execution_count": 24,
   "metadata": {},
   "outputs": [],
   "source": [
    "# Create a copy of raw data for transformation\n",
    "ny_crime_df = raw_df.copy()\n",
    "\n",
    "# Exclude arrests with no offense description\n",
    "ny_crime_df = ny_crime_df[~ny_crime_df['OFNS_DESC'].isnull()]\n",
    "\n",
    "# Replace typos\n",
    "ny_crime_df.replace('OTHER STATE LAWS (NON PENAL LA', 'OTHER STATE LAWS (NON PENAL LAW)', inplace=True)"
   ]
  },
  {
   "cell_type": "code",
   "execution_count": 26,
   "metadata": {},
   "outputs": [
    {
     "data": {
      "text/plain": [
       "{'B', 'K', 'M', 'Q', 'S'}"
      ]
     },
     "execution_count": 26,
     "metadata": {},
     "output_type": "execute_result"
    }
   ],
   "source": [
    "set(ny_crime_df['ARREST_BORO'])"
   ]
  },
  {
   "cell_type": "code",
   "execution_count": 28,
   "metadata": {},
   "outputs": [
    {
     "data": {
      "text/plain": [
       "K    20016\n",
       "M    18490\n",
       "B    17153\n",
       "Q    15837\n",
       "S     3228\n",
       "Name: ARREST_BORO, dtype: int64"
      ]
     },
     "execution_count": 28,
     "metadata": {},
     "output_type": "execute_result"
    }
   ],
   "source": [
    "# ny_crime_df.groupby('ARREST_BORO').count()\n",
    "ny_crime_df['ARREST_BORO'].value_counts()"
   ]
  },
  {
   "cell_type": "code",
   "execution_count": null,
   "metadata": {},
   "outputs": [],
   "source": []
  }
 ],
 "metadata": {
  "kernelspec": {
   "display_name": "Python 3",
   "language": "python",
   "name": "python3"
  },
  "language_info": {
   "codemirror_mode": {
    "name": "ipython",
    "version": 3
   },
   "file_extension": ".py",
   "mimetype": "text/x-python",
   "name": "python",
   "nbconvert_exporter": "python",
   "pygments_lexer": "ipython3",
   "version": "3.8.3"
  }
 },
 "nbformat": 4,
 "nbformat_minor": 4
}
